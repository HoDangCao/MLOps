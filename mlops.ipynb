{
 "cells": [
  {
   "cell_type": "markdown",
   "metadata": {},
   "source": [
    "## Train & Track an ML Model using MLflow"
   ]
  },
  {
   "cell_type": "markdown",
   "metadata": {},
   "source": [
    "- Create a Simple ML Model (e.g., Linear Regression)"
   ]
  },
  {
   "cell_type": "code",
   "execution_count": 2,
   "metadata": {},
   "outputs": [],
   "source": [
    "import numpy as np\n",
    "import pandas as pd\n",
    "import mlflow\n",
    "import mlflow.sklearn\n",
    "from sklearn.model_selection import train_test_split\n",
    "from sklearn.linear_model import LinearRegression\n",
    "from sklearn.metrics import mean_squared_error"
   ]
  },
  {
   "cell_type": "code",
   "execution_count": 15,
   "metadata": {},
   "outputs": [
    {
     "name": "stderr",
     "output_type": "stream",
     "text": [
      "2025/04/05 00:21:43 INFO mlflow.tracking.fluent: Experiment with name 'mlops_experiment' does not exist. Creating a new experiment.\n",
      "2025/04/05 00:21:59 WARNING mlflow.models.model: Model logged without a signature and input example. Please set `input_example` parameter when logging the model to auto infer the model signature.\n"
     ]
    },
    {
     "name": "stdout",
     "output_type": "stream",
     "text": [
      "Model trained & logged with MSE: 2.614798054868012\n"
     ]
    }
   ],
   "source": [
    "# Generate sample data\n",
    "np.random.seed(42)\n",
    "X = np.random.rand(100, 1) * 10\n",
    "y = 3 * X.squeeze() + np.random.randn(100) * 2 # labels with noise\n",
    "\n",
    "X_train, X_test, y_train, y_test = train_test_split(X, y, test_size=0.2, random_state=42)\n",
    "\n",
    "# Enable MLflow tracking\n",
    "mlflow.set_experiment('mlops_experiment')\n",
    "\n",
    "with mlflow.start_run():\n",
    "    model = LinearRegression()\n",
    "    model.fit(X_train, y_train)\n",
    "\n",
    "    y_pred = model.predict(X_test)\n",
    "    mse = mean_squared_error(y_test, y_pred)\n",
    "\n",
    "    # Log params & metrics\n",
    "    mlflow.log_param('model_type', 'LinearRegresion')\n",
    "    mlflow.log_metric('mse', mse)\n",
    "\n",
    "    # save model\n",
    "    mlflow.sklearn.log_model(model, 'model')\n",
    "\n",
    "print(f'Model trained & logged with MSE: {mse}')"
   ]
  },
  {
   "cell_type": "markdown",
   "metadata": {},
   "source": [
    "## Containerize the Model using Docker"
   ]
  },
  {
   "cell_type": "markdown",
   "metadata": {},
   "source": [
    "-  Create a Dockerfile to Package the Model"
   ]
  },
  {
   "cell_type": "markdown",
   "metadata": {},
   "source": [
    "## Serve the Model as an API with FastAPI (`app.py`)"
   ]
  },
  {
   "cell_type": "code",
   "execution_count": 1,
   "metadata": {},
   "outputs": [],
   "source": [
    "from fastapi import FastAPI\n",
    "import mlflow.pyfunc\n",
    "\n",
    "app = FastAPI()\n",
    "\n",
    "RUN_ID = '2648c5c0cea24050b86fcc6adaa0b565'\n",
    "model = mlflow.pyfunc.load_model(f'mlruns/721578769661279971/{RUN_ID}/artifacts/model')\n",
    "\n",
    "@app.post('/predict/')\n",
    "def predict(data: dict):\n",
    "    X = [[data['feature']]]\n",
    "    prediction = model.predict(X)[0]\n",
    "    return {'prediction': prediction}"
   ]
  },
  {
   "cell_type": "markdown",
   "metadata": {},
   "source": [
    "## Run & Test the API"
   ]
  },
  {
   "cell_type": "markdown",
   "metadata": {},
   "source": [
    "- Build & Run the Docker Container"
   ]
  },
  {
   "cell_type": "code",
   "execution_count": null,
   "metadata": {},
   "outputs": [
    {
     "name": "stderr",
     "output_type": "stream",
     "text": [
      "#0 building with \"desktop-linux\" instance using docker driver\n",
      "\n",
      "#1 [internal] load build definition from Dockerfile\n",
      "#1 transferring dockerfile: 218B 0.0s done\n",
      "#1 DONE 0.0s\n",
      "\n",
      "#2 [internal] load metadata for docker.io/library/python:3.11\n",
      "#2 DONE 1.1s\n",
      "\n",
      "#3 [internal] load .dockerignore\n",
      "#3 transferring context: 2B done\n",
      "#3 DONE 0.0s\n",
      "\n",
      "#4 [1/4] FROM docker.io/library/python:3.11@sha256:ebfa8696e47a68cffebb31e370a93ce57c01bc753f246ceaaef72801d1661351\n",
      "#4 DONE 0.0s\n",
      "\n",
      "#5 [internal] load build context\n",
      "#5 transferring context: 2.64kB 0.0s done\n",
      "#5 DONE 0.0s\n",
      "\n",
      "#6 [2/4] WORKDIR /app\n",
      "#6 CACHED\n",
      "\n",
      "#7 [3/4] COPY . /app/\n",
      "#7 DONE 0.0s\n",
      "\n",
      "#8 [4/4] RUN pip install --no-cache-dir fastapi uvicorn mlflow scikit-learn\n",
      "#8 2.863 Collecting fastapi\n",
      "#8 3.080   Downloading fastapi-0.115.12-py3-none-any.whl.metadata (27 kB)\n",
      "#8 3.209 Collecting uvicorn\n",
      "#8 3.253   Downloading uvicorn-0.34.0-py3-none-any.whl.metadata (6.5 kB)\n",
      "#8 3.380 Collecting mlflow\n",
      "#8 3.424   Downloading mlflow-2.21.3-py3-none-any.whl.metadata (30 kB)\n",
      "#8 3.671 Collecting scikit-learn\n",
      "#8 3.719   Downloading scikit_learn-1.6.1-cp311-cp311-manylinux_2_17_x86_64.manylinux2014_x86_64.whl.metadata (18 kB)\n",
      "#8 3.861 Collecting starlette<0.47.0,>=0.40.0 (from fastapi)\n",
      "#8 3.907   Downloading starlette-0.46.1-py3-none-any.whl.metadata (6.2 kB)\n",
      "#8 4.252 Collecting pydantic!=1.8,!=1.8.1,!=2.0.0,!=2.0.1,!=2.1.0,<3.0.0,>=1.7.4 (from fastapi)\n",
      "#8 4.321   Downloading pydantic-2.11.2-py3-none-any.whl.metadata (64 kB)\n",
      "#8 4.363      ━━━━━━━━━━━━━━━━━━━━━━━━━━━━━━━━━━━━━━━━ 64.7/64.7 kB 1.5 MB/s eta 0:00:00\n",
      "#8 4.480 Collecting typing-extensions>=4.8.0 (from fastapi)\n",
      "#8 4.524   Downloading typing_extensions-4.13.1-py3-none-any.whl.metadata (3.0 kB)\n",
      "#8 4.650 Collecting click>=7.0 (from uvicorn)\n",
      "#8 4.692   Downloading click-8.1.8-py3-none-any.whl.metadata (2.3 kB)\n",
      "#8 4.762 Collecting h11>=0.8 (from uvicorn)\n",
      "#8 4.832   Downloading h11-0.14.0-py3-none-any.whl.metadata (8.2 kB)\n",
      "#8 5.031 Collecting mlflow-skinny==2.21.3 (from mlflow)\n",
      "#8 5.074   Downloading mlflow_skinny-2.21.3-py3-none-any.whl.metadata (31 kB)\n",
      "#8 5.214 Collecting Flask<4 (from mlflow)\n",
      "#8 5.263   Downloading flask-3.1.0-py3-none-any.whl.metadata (2.7 kB)\n",
      "#8 5.357 Collecting Jinja2<4,>=2.11 (from mlflow)\n",
      "#8 5.399   Downloading jinja2-3.1.6-py3-none-any.whl.metadata (2.9 kB)\n",
      "#8 5.524 Collecting alembic!=1.10.0,<2 (from mlflow)\n",
      "#8 5.584   Downloading alembic-1.15.2-py3-none-any.whl.metadata (7.3 kB)\n",
      "#8 5.704 Collecting docker<8,>=4.0.0 (from mlflow)\n",
      "#8 5.752   Downloading docker-7.1.0-py3-none-any.whl.metadata (3.8 kB)\n",
      "#8 5.854 Collecting graphene<4 (from mlflow)\n",
      "#8 5.900   Downloading graphene-3.4.3-py2.py3-none-any.whl.metadata (6.9 kB)\n",
      "#8 6.046 Collecting gunicorn<24 (from mlflow)\n",
      "#8 6.093   Downloading gunicorn-23.0.0-py3-none-any.whl.metadata (4.4 kB)\n",
      "#8 6.177 Collecting markdown<4,>=3.3 (from mlflow)\n",
      "#8 6.222   Downloading Markdown-3.7-py3-none-any.whl.metadata (7.0 kB)\n",
      "#8 6.530 Collecting matplotlib<4 (from mlflow)\n",
      "#8 6.574   Downloading matplotlib-3.10.1-cp311-cp311-manylinux_2_17_x86_64.manylinux2014_x86_64.whl.metadata (11 kB)\n",
      "#8 7.020 Collecting numpy<3 (from mlflow)\n",
      "#8 7.066   Downloading numpy-2.2.4-cp311-cp311-manylinux_2_17_x86_64.manylinux2014_x86_64.whl.metadata (62 kB)\n",
      "#8 7.096      ━━━━━━━━━━━━━━━━━━━━━━━━━━━━━━━━━━━━━━━━ 62.0/62.0 kB 2.5 MB/s eta 0:00:00\n",
      "#8 7.379 Collecting pandas<3 (from mlflow)\n",
      "#8 7.424   Downloading pandas-2.2.3-cp311-cp311-manylinux_2_17_x86_64.manylinux2014_x86_64.whl.metadata (89 kB)\n",
      "#8 7.478      ━━━━━━━━━━━━━━━━━━━━━━━━━━━━━━━━━━━━━━━━ 89.9/89.9 kB 3.2 MB/s eta 0:00:00\n",
      "#8 7.713 Collecting pyarrow<20,>=4.0.0 (from mlflow)\n",
      "#8 7.758   Downloading pyarrow-19.0.1-cp311-cp311-manylinux_2_28_x86_64.whl.metadata (3.3 kB)\n",
      "#8 8.012 Collecting scipy<2 (from mlflow)\n",
      "#8 8.058   Downloading scipy-1.15.2-cp311-cp311-manylinux_2_17_x86_64.manylinux2014_x86_64.whl.metadata (61 kB)\n",
      "#8 8.107      ━━━━━━━━━━━━━━━━━━━━━━━━━━━━━━━━━━━━━━━━ 62.0/62.0 kB 2.3 MB/s eta 0:00:00\n",
      "#8 8.799 Collecting sqlalchemy<3,>=1.4.0 (from mlflow)\n",
      "#8 8.882   Downloading sqlalchemy-2.0.40-cp311-cp311-manylinux_2_17_x86_64.manylinux2014_x86_64.whl.metadata (9.6 kB)\n",
      "#8 9.050 Collecting cachetools<6,>=5.0.0 (from mlflow-skinny==2.21.3->mlflow)\n",
      "#8 9.093   Downloading cachetools-5.5.2-py3-none-any.whl.metadata (5.4 kB)\n",
      "#8 9.193 Collecting cloudpickle<4 (from mlflow-skinny==2.21.3->mlflow)\n",
      "#8 9.239   Downloading cloudpickle-3.1.1-py3-none-any.whl.metadata (7.1 kB)\n",
      "#8 9.382 Collecting databricks-sdk<1,>=0.20.0 (from mlflow-skinny==2.21.3->mlflow)\n",
      "#8 9.438   Downloading databricks_sdk-0.49.0-py3-none-any.whl.metadata (38 kB)\n",
      "#8 9.615 Collecting gitpython<4,>=3.1.9 (from mlflow-skinny==2.21.3->mlflow)\n",
      "#8 9.673   Downloading GitPython-3.1.44-py3-none-any.whl.metadata (13 kB)\n",
      "#8 9.807 Collecting importlib_metadata!=4.7.0,<9,>=3.7.0 (from mlflow-skinny==2.21.3->mlflow)\n",
      "#8 9.860   Downloading importlib_metadata-8.6.1-py3-none-any.whl.metadata (4.7 kB)\n",
      "#8 9.953 Collecting opentelemetry-api<3,>=1.9.0 (from mlflow-skinny==2.21.3->mlflow)\n",
      "#8 10.01   Downloading opentelemetry_api-1.31.1-py3-none-any.whl.metadata (1.6 kB)\n",
      "#8 10.10 Collecting opentelemetry-sdk<3,>=1.9.0 (from mlflow-skinny==2.21.3->mlflow)\n",
      "#8 10.16   Downloading opentelemetry_sdk-1.31.1-py3-none-any.whl.metadata (1.6 kB)\n",
      "#8 10.30 Collecting packaging<25 (from mlflow-skinny==2.21.3->mlflow)\n",
      "#8 10.37   Downloading packaging-24.2-py3-none-any.whl.metadata (3.2 kB)\n",
      "#8 10.85 Collecting protobuf<6,>=3.12.0 (from mlflow-skinny==2.21.3->mlflow)\n",
      "#8 10.92   Downloading protobuf-5.29.4-cp38-abi3-manylinux2014_x86_64.whl.metadata (592 bytes)\n",
      "#8 11.12 Collecting pyyaml<7,>=5.1 (from mlflow-skinny==2.21.3->mlflow)\n",
      "#8 11.16   Downloading PyYAML-6.0.2-cp311-cp311-manylinux_2_17_x86_64.manylinux2014_x86_64.whl.metadata (2.1 kB)\n",
      "#8 11.26 Collecting requests<3,>=2.17.3 (from mlflow-skinny==2.21.3->mlflow)\n",
      "#8 11.31   Downloading requests-2.32.3-py3-none-any.whl.metadata (4.6 kB)\n",
      "#8 11.41 Collecting sqlparse<1,>=0.4.0 (from mlflow-skinny==2.21.3->mlflow)\n",
      "#8 11.45   Downloading sqlparse-0.5.3-py3-none-any.whl.metadata (3.9 kB)\n",
      "#8 11.64 Collecting joblib>=1.2.0 (from scikit-learn)\n",
      "#8 11.69   Downloading joblib-1.4.2-py3-none-any.whl.metadata (5.4 kB)\n",
      "#8 11.78 Collecting threadpoolctl>=3.1.0 (from scikit-learn)\n",
      "#8 11.82   Downloading threadpoolctl-3.6.0-py3-none-any.whl.metadata (13 kB)\n",
      "#8 11.94 Collecting Mako (from alembic!=1.10.0,<2->mlflow)\n",
      "#8 11.98   Downloading Mako-1.3.9-py3-none-any.whl.metadata (2.9 kB)\n",
      "#8 12.15 Collecting urllib3>=1.26.0 (from docker<8,>=4.0.0->mlflow)\n",
      "#8 12.19   Downloading urllib3-2.3.0-py3-none-any.whl.metadata (6.5 kB)\n",
      "#8 12.33 Collecting Werkzeug>=3.1 (from Flask<4->mlflow)\n",
      "#8 12.41   Downloading werkzeug-3.1.3-py3-none-any.whl.metadata (3.7 kB)\n",
      "#8 12.51 Collecting itsdangerous>=2.2 (from Flask<4->mlflow)\n",
      "#8 12.56   Downloading itsdangerous-2.2.0-py3-none-any.whl.metadata (1.9 kB)\n",
      "#8 12.65 Collecting blinker>=1.9 (from Flask<4->mlflow)\n",
      "#8 12.70   Downloading blinker-1.9.0-py3-none-any.whl.metadata (1.6 kB)\n",
      "#8 12.86 Collecting graphql-core<3.3,>=3.1 (from graphene<4->mlflow)\n",
      "#8 12.90   Downloading graphql_core-3.2.6-py3-none-any.whl.metadata (11 kB)\n",
      "#8 12.99 Collecting graphql-relay<3.3,>=3.1 (from graphene<4->mlflow)\n",
      "#8 13.04   Downloading graphql_relay-3.2.0-py3-none-any.whl.metadata (12 kB)\n",
      "#8 13.14 Collecting python-dateutil<3,>=2.7.0 (from graphene<4->mlflow)\n",
      "#8 13.20   Downloading python_dateutil-2.9.0.post0-py2.py3-none-any.whl.metadata (8.4 kB)\n",
      "#8 13.39 Collecting MarkupSafe>=2.0 (from Jinja2<4,>=2.11->mlflow)\n",
      "#8 13.44   Downloading MarkupSafe-3.0.2-cp311-cp311-manylinux_2_17_x86_64.manylinux2014_x86_64.whl.metadata (4.0 kB)\n",
      "#8 13.69 Collecting contourpy>=1.0.1 (from matplotlib<4->mlflow)\n",
      "#8 13.76   Downloading contourpy-1.3.1-cp311-cp311-manylinux_2_17_x86_64.manylinux2014_x86_64.whl.metadata (5.4 kB)\n",
      "#8 13.86 Collecting cycler>=0.10 (from matplotlib<4->mlflow)\n",
      "#8 13.90   Downloading cycler-0.12.1-py3-none-any.whl.metadata (3.8 kB)\n",
      "#8 14.19 Collecting fonttools>=4.22.0 (from matplotlib<4->mlflow)\n",
      "#8 14.24   Downloading fonttools-4.57.0-cp311-cp311-manylinux_2_17_x86_64.manylinux2014_x86_64.whl.metadata (102 kB)\n",
      "#8 14.30      ━━━━━━━━━━━━━━━━━━━━━━━━━━━━━━━━━━━━━━━ 102.5/102.5 kB 2.5 MB/s eta 0:00:00\n",
      "#8 14.54 Collecting kiwisolver>=1.3.1 (from matplotlib<4->mlflow)\n",
      "#8 14.58   Downloading kiwisolver-1.4.8-cp311-cp311-manylinux_2_17_x86_64.manylinux2014_x86_64.whl.metadata (6.2 kB)\n",
      "#8 14.98 Collecting pillow>=8 (from matplotlib<4->mlflow)\n",
      "#8 15.04   Downloading pillow-11.1.0-cp311-cp311-manylinux_2_28_x86_64.whl.metadata (9.1 kB)\n",
      "#8 15.18 Collecting pyparsing>=2.3.1 (from matplotlib<4->mlflow)\n",
      "#8 15.22   Downloading pyparsing-3.2.3-py3-none-any.whl.metadata (5.0 kB)\n",
      "#8 15.49 Collecting pytz>=2020.1 (from pandas<3->mlflow)\n",
      "#8 15.53   Downloading pytz-2025.2-py2.py3-none-any.whl.metadata (22 kB)\n",
      "#8 15.63 Collecting tzdata>=2022.7 (from pandas<3->mlflow)\n",
      "#8 15.69   Downloading tzdata-2025.2-py2.py3-none-any.whl.metadata (1.4 kB)\n",
      "#8 15.80 Collecting annotated-types>=0.6.0 (from pydantic!=1.8,!=1.8.1,!=2.0.0,!=2.0.1,!=2.1.0,<3.0.0,>=1.7.4->fastapi)\n",
      "#8 15.85   Downloading annotated_types-0.7.0-py3-none-any.whl.metadata (15 kB)\n",
      "#8 17.20 Collecting pydantic-core==2.33.1 (from pydantic!=1.8,!=1.8.1,!=2.0.0,!=2.0.1,!=2.1.0,<3.0.0,>=1.7.4->fastapi)\n",
      "#8 17.29   Downloading pydantic_core-2.33.1-cp311-cp311-manylinux_2_17_x86_64.manylinux2014_x86_64.whl.metadata (6.8 kB)\n",
      "#8 17.37 Collecting typing-inspection>=0.4.0 (from pydantic!=1.8,!=1.8.1,!=2.0.0,!=2.0.1,!=2.1.0,<3.0.0,>=1.7.4->fastapi)\n",
      "#8 17.41   Downloading typing_inspection-0.4.0-py3-none-any.whl.metadata (2.6 kB)\n",
      "#8 17.80 Collecting greenlet>=1 (from sqlalchemy<3,>=1.4.0->mlflow)\n",
      "#8 18.13   Downloading greenlet-3.1.1-cp311-cp311-manylinux_2_24_x86_64.manylinux_2_28_x86_64.whl.metadata (3.8 kB)\n",
      "#8 18.27 Collecting anyio<5,>=3.6.2 (from starlette<0.47.0,>=0.40.0->fastapi)\n",
      "#8 18.31   Downloading anyio-4.9.0-py3-none-any.whl.metadata (4.7 kB)\n",
      "#8 18.48 Collecting idna>=2.8 (from anyio<5,>=3.6.2->starlette<0.47.0,>=0.40.0->fastapi)\n",
      "#8 18.52   Downloading idna-3.10-py3-none-any.whl.metadata (10 kB)\n",
      "#8 18.61 Collecting sniffio>=1.1 (from anyio<5,>=3.6.2->starlette<0.47.0,>=0.40.0->fastapi)\n",
      "#8 18.66   Downloading sniffio-1.3.1-py3-none-any.whl.metadata (3.9 kB)\n",
      "#8 18.99 Collecting google-auth~=2.0 (from databricks-sdk<1,>=0.20.0->mlflow-skinny==2.21.3->mlflow)\n",
      "#8 19.03   Downloading google_auth-2.38.0-py2.py3-none-any.whl.metadata (4.8 kB)\n",
      "#8 19.21 Collecting gitdb<5,>=4.0.1 (from gitpython<4,>=3.1.9->mlflow-skinny==2.21.3->mlflow)\n",
      "#8 19.26   Downloading gitdb-4.0.12-py3-none-any.whl.metadata (1.2 kB)\n",
      "#8 19.45 Collecting zipp>=3.20 (from importlib_metadata!=4.7.0,<9,>=3.7.0->mlflow-skinny==2.21.3->mlflow)\n",
      "#8 19.49   Downloading zipp-3.21.0-py3-none-any.whl.metadata (3.7 kB)\n",
      "#8 19.65 Collecting deprecated>=1.2.6 (from opentelemetry-api<3,>=1.9.0->mlflow-skinny==2.21.3->mlflow)\n",
      "#8 19.70   Downloading Deprecated-1.2.18-py2.py3-none-any.whl.metadata (5.7 kB)\n",
      "#8 19.87 Collecting opentelemetry-semantic-conventions==0.52b1 (from opentelemetry-sdk<3,>=1.9.0->mlflow-skinny==2.21.3->mlflow)\n",
      "#8 19.92   Downloading opentelemetry_semantic_conventions-0.52b1-py3-none-any.whl.metadata (2.5 kB)\n",
      "#8 20.12 Collecting six>=1.5 (from python-dateutil<3,>=2.7.0->graphene<4->mlflow)\n",
      "#8 20.16   Downloading six-1.17.0-py2.py3-none-any.whl.metadata (1.7 kB)\n",
      "#8 20.55 Collecting charset-normalizer<4,>=2 (from requests<3,>=2.17.3->mlflow-skinny==2.21.3->mlflow)\n",
      "#8 20.59   Downloading charset_normalizer-3.4.1-cp311-cp311-manylinux_2_17_x86_64.manylinux2014_x86_64.whl.metadata (35 kB)\n",
      "#8 20.76 Collecting certifi>=2017.4.17 (from requests<3,>=2.17.3->mlflow-skinny==2.21.3->mlflow)\n",
      "#8 20.81   Downloading certifi-2025.1.31-py3-none-any.whl.metadata (2.5 kB)\n",
      "#8 21.21 Collecting wrapt<2,>=1.10 (from deprecated>=1.2.6->opentelemetry-api<3,>=1.9.0->mlflow-skinny==2.21.3->mlflow)\n",
      "#8 21.25   Downloading wrapt-1.17.2-cp311-cp311-manylinux_2_5_x86_64.manylinux1_x86_64.manylinux_2_17_x86_64.manylinux2014_x86_64.whl.metadata (6.4 kB)\n",
      "#8 21.37 Collecting smmap<6,>=3.0.1 (from gitdb<5,>=4.0.1->gitpython<4,>=3.1.9->mlflow-skinny==2.21.3->mlflow)\n",
      "#8 21.41   Downloading smmap-5.0.2-py3-none-any.whl.metadata (4.3 kB)\n",
      "#8 21.58 Collecting pyasn1-modules>=0.2.1 (from google-auth~=2.0->databricks-sdk<1,>=0.20.0->mlflow-skinny==2.21.3->mlflow)\n",
      "#8 21.62   Downloading pyasn1_modules-0.4.2-py3-none-any.whl.metadata (3.5 kB)\n",
      "#8 21.72 Collecting rsa<5,>=3.1.4 (from google-auth~=2.0->databricks-sdk<1,>=0.20.0->mlflow-skinny==2.21.3->mlflow)\n",
      "#8 21.77   Downloading rsa-4.9-py3-none-any.whl.metadata (4.2 kB)\n",
      "#8 22.03 Collecting pyasn1<0.7.0,>=0.6.1 (from pyasn1-modules>=0.2.1->google-auth~=2.0->databricks-sdk<1,>=0.20.0->mlflow-skinny==2.21.3->mlflow)\n",
      "#8 22.09   Downloading pyasn1-0.6.1-py3-none-any.whl.metadata (8.4 kB)\n",
      "#8 22.24 Downloading fastapi-0.115.12-py3-none-any.whl (95 kB)\n",
      "#8 22.29    ━━━━━━━━━━━━━━━━━━━━━━━━━━━━━━━━━━━━━━━━ 95.2/95.2 kB 3.4 MB/s eta 0:00:00\n",
      "#8 22.33 Downloading uvicorn-0.34.0-py3-none-any.whl (62 kB)\n",
      "#8 22.37    ━━━━━━━━━━━━━━━━━━━━━━━━━━━━━━━━━━━━━━━━ 62.3/62.3 kB 6.6 MB/s eta 0:00:00\n",
      "#8 22.41 Downloading mlflow-2.21.3-py3-none-any.whl (28.2 MB)\n",
      "#8 41.72    ━━━━━━━━━━━━━━━━━━━━━━━━━━━━━━━━━━━━━━━━ 28.2/28.2 MB 1.7 MB/s eta 0:00:00\n",
      "#8 41.77 Downloading mlflow_skinny-2.21.3-py3-none-any.whl (6.1 MB)\n",
      "#8 44.92    ━━━━━━━━━━━━━━━━━━━━━━━━━━━━━━━━━━━━━━━━ 6.1/6.1 MB 2.0 MB/s eta 0:00:00\n",
      "#8 44.97 Downloading scikit_learn-1.6.1-cp311-cp311-manylinux_2_17_x86_64.manylinux2014_x86_64.whl (13.5 MB)\n",
      "#8 51.42    ━━━━━━━━━━━━━━━━━━━━━━━━━━━━━━━━━━━━━━━━ 13.5/13.5 MB 2.2 MB/s eta 0:00:00\n",
      "#8 51.48 Downloading alembic-1.15.2-py3-none-any.whl (231 kB)\n",
      "#8 51.60    ━━━━━━━━━━━━━━━━━━━━━━━━━━━━━━━━━━━━━━━━ 231.9/231.9 kB 1.9 MB/s eta 0:00:00\n",
      "#8 51.66 Downloading click-8.1.8-py3-none-any.whl (98 kB)\n",
      "#8 51.70    ━━━━━━━━━━━━━━━━━━━━━━━━━━━━━━━━━━━━━━━━ 98.2/98.2 kB 2.8 MB/s eta 0:00:00\n",
      "#8 51.74 Downloading docker-7.1.0-py3-none-any.whl (147 kB)\n",
      "#8 51.80    ━━━━━━━━━━━━━━━━━━━━━━━━━━━━━━━━━━━━━━━━ 147.8/147.8 kB 3.2 MB/s eta 0:00:00\n",
      "#8 51.84 Downloading flask-3.1.0-py3-none-any.whl (102 kB)\n",
      "#8 51.88    ━━━━━━━━━━━━━━━━━━━━━━━━━━━━━━━━━━━━━━━━ 103.0/103.0 kB 4.7 MB/s eta 0:00:00\n",
      "#8 51.95 Downloading graphene-3.4.3-py2.py3-none-any.whl (114 kB)\n",
      "#8 51.99    ━━━━━━━━━━━━━━━━━━━━━━━━━━━━━━━━━━━━━━━━ 114.9/114.9 kB 2.6 MB/s eta 0:00:00\n",
      "#8 52.05 Downloading gunicorn-23.0.0-py3-none-any.whl (85 kB)\n",
      "#8 52.09    ━━━━━━━━━━━━━━━━━━━━━━━━━━━━━━━━━━━━━━━━ 85.0/85.0 kB 3.4 MB/s eta 0:00:00\n",
      "#8 52.15 Downloading h11-0.14.0-py3-none-any.whl (58 kB)\n",
      "#8 52.19    ━━━━━━━━━━━━━━━━━━━━━━━━━━━━━━━━━━━━━━━━ 58.3/58.3 kB 1.6 MB/s eta 0:00:00\n",
      "#8 52.28 Downloading jinja2-3.1.6-py3-none-any.whl (134 kB)\n",
      "#8 52.39    ━━━━━━━━━━━━━━━━━━━━━━━━━━━━━━━━━━━━━━━━ 134.9/134.9 kB 1.4 MB/s eta 0:00:00\n",
      "#8 52.49 Downloading joblib-1.4.2-py3-none-any.whl (301 kB)\n",
      "#8 52.73    ━━━━━━━━━━━━━━━━━━━━━━━━━━━━━━━━━━━━━━━━ 301.8/301.8 kB 1.3 MB/s eta 0:00:00\n",
      "#8 52.81 Downloading Markdown-3.7-py3-none-any.whl (106 kB)\n",
      "#8 52.88    ━━━━━━━━━━━━━━━━━━━━━━━━━━━━━━━━━━━━━━━━ 106.3/106.3 kB 1.8 MB/s eta 0:00:00\n",
      "#8 52.96 Downloading matplotlib-3.10.1-cp311-cp311-manylinux_2_17_x86_64.manylinux2014_x86_64.whl (8.6 MB)\n",
      "#8 56.28    ━━━━━━━━━━━━━━━━━━━━━━━━━━━━━━━━━━━━━━━━ 8.6/8.6 MB 2.6 MB/s eta 0:00:00\n",
      "#8 56.33 Downloading numpy-2.2.4-cp311-cp311-manylinux_2_17_x86_64.manylinux2014_x86_64.whl (16.4 MB)\n",
      "#8 60.79    ━━━━━━━━━━━━━━━━━━━━━━━━━━━━━━━━━━━━━━━━ 16.4/16.4 MB 3.8 MB/s eta 0:00:00\n",
      "#8 60.85 Downloading pandas-2.2.3-cp311-cp311-manylinux_2_17_x86_64.manylinux2014_x86_64.whl (13.1 MB)\n",
      "#8 63.12    ━━━━━━━━━━━━━━━━━━━━━━━━━━━━━━━━━━━━━━━━ 13.1/13.1 MB 6.3 MB/s eta 0:00:00\n",
      "#8 63.16 Downloading pyarrow-19.0.1-cp311-cp311-manylinux_2_28_x86_64.whl (42.1 MB)\n",
      "#8 72.46    ━━━━━━━━━━━━━━━━━━━━━━━━━━━━━━━━━━━━━━━━ 42.1/42.1 MB 4.2 MB/s eta 0:00:00\n",
      "#8 72.51 Downloading pydantic-2.11.2-py3-none-any.whl (443 kB)\n",
      "#8 72.59    ━━━━━━━━━━━━━━━━━━━━━━━━━━━━━━━━━━━━━━━━ 443.3/443.3 kB 5.4 MB/s eta 0:00:00\n",
      "#8 72.64 Downloading pydantic_core-2.33.1-cp311-cp311-manylinux_2_17_x86_64.manylinux2014_x86_64.whl (2.0 MB)\n",
      "#8 73.06    ━━━━━━━━━━━━━━━━━━━━━━━━━━━━━━━━━━━━━━━━ 2.0/2.0 MB 4.9 MB/s eta 0:00:00\n",
      "#8 73.10 Downloading scipy-1.15.2-cp311-cp311-manylinux_2_17_x86_64.manylinux2014_x86_64.whl (37.6 MB)\n",
      "#8 80.53    ━━━━━━━━━━━━━━━━━━━━━━━━━━━━━━━━━━━━━━━━ 37.6/37.6 MB 5.2 MB/s eta 0:00:00\n",
      "#8 80.57 Downloading sqlalchemy-2.0.40-cp311-cp311-manylinux_2_17_x86_64.manylinux2014_x86_64.whl (3.2 MB)\n",
      "#8 81.20    ━━━━━━━━━━━━━━━━━━━━━━━━━━━━━━━━━━━━━━━━ 3.2/3.2 MB 5.2 MB/s eta 0:00:00\n",
      "#8 81.24 Downloading starlette-0.46.1-py3-none-any.whl (71 kB)\n",
      "#8 81.26    ━━━━━━━━━━━━━━━━━━━━━━━━━━━━━━━━━━━━━━━━ 72.0/72.0 kB 7.3 MB/s eta 0:00:00\n",
      "#8 81.30 Downloading threadpoolctl-3.6.0-py3-none-any.whl (18 kB)\n",
      "#8 81.36 Downloading typing_extensions-4.13.1-py3-none-any.whl (45 kB)\n",
      "#8 81.37    ━━━━━━━━━━━━━━━━━━━━━━━━━━━━━━━━━━━━━━━━ 45.7/45.7 kB 8.4 MB/s eta 0:00:00\n",
      "#8 81.41 Downloading annotated_types-0.7.0-py3-none-any.whl (13 kB)\n",
      "#8 81.47 Downloading anyio-4.9.0-py3-none-any.whl (100 kB)\n",
      "#8 81.49    ━━━━━━━━━━━━━━━━━━━━━━━━━━━━━━━━━━━━━━━━ 100.9/100.9 kB 8.8 MB/s eta 0:00:00\n",
      "#8 81.53 Downloading blinker-1.9.0-py3-none-any.whl (8.5 kB)\n",
      "#8 81.58 Downloading cachetools-5.5.2-py3-none-any.whl (10 kB)\n",
      "#8 81.63 Downloading cloudpickle-3.1.1-py3-none-any.whl (20 kB)\n",
      "#8 81.69 Downloading contourpy-1.3.1-cp311-cp311-manylinux_2_17_x86_64.manylinux2014_x86_64.whl (326 kB)\n",
      "#8 81.76    ━━━━━━━━━━━━━━━━━━━━━━━━━━━━━━━━━━━━━━━━ 326.2/326.2 kB 5.0 MB/s eta 0:00:00\n",
      "#8 81.80 Downloading cycler-0.12.1-py3-none-any.whl (8.3 kB)\n",
      "#8 81.86 Downloading databricks_sdk-0.49.0-py3-none-any.whl (683 kB)\n",
      "#8 82.00    ━━━━━━━━━━━━━━━━━━━━━━━━━━━━━━━━━━━━━━━━ 684.0/684.0 kB 4.9 MB/s eta 0:00:00\n",
      "#8 82.05 Downloading fonttools-4.57.0-cp311-cp311-manylinux_2_17_x86_64.manylinux2014_x86_64.whl (4.9 MB)\n",
      "#8 82.91    ━━━━━━━━━━━━━━━━━━━━━━━━━━━━━━━━━━━━━━━━ 4.9/4.9 MB 5.8 MB/s eta 0:00:00\n",
      "#8 82.96 Downloading GitPython-3.1.44-py3-none-any.whl (207 kB)\n",
      "#8 82.99    ━━━━━━━━━━━━━━━━━━━━━━━━━━━━━━━━━━━━━━━━ 207.6/207.6 kB 7.8 MB/s eta 0:00:00\n",
      "#8 83.04 Downloading graphql_core-3.2.6-py3-none-any.whl (203 kB)\n",
      "#8 83.07    ━━━━━━━━━━━━━━━━━━━━━━━━━━━━━━━━━━━━━━━━ 203.4/203.4 kB 10.2 MB/s eta 0:00:00\n",
      "#8 83.11 Downloading graphql_relay-3.2.0-py3-none-any.whl (16 kB)\n",
      "#8 83.17 Downloading greenlet-3.1.1-cp311-cp311-manylinux_2_24_x86_64.manylinux_2_28_x86_64.whl (602 kB)\n",
      "#8 83.26    ━━━━━━━━━━━━━━━━━━━━━━━━━━━━━━━━━━━━━━━━ 602.4/602.4 kB 7.3 MB/s eta 0:00:00\n",
      "#8 83.30 Downloading importlib_metadata-8.6.1-py3-none-any.whl (26 kB)\n",
      "#8 83.36 Downloading itsdangerous-2.2.0-py3-none-any.whl (16 kB)\n",
      "#8 83.41 Downloading kiwisolver-1.4.8-cp311-cp311-manylinux_2_17_x86_64.manylinux2014_x86_64.whl (1.4 MB)\n",
      "#8 83.65    ━━━━━━━━━━━━━━━━━━━━━━━━━━━━━━━━━━━━━━━━ 1.4/1.4 MB 6.2 MB/s eta 0:00:00\n",
      "#8 83.70 Downloading MarkupSafe-3.0.2-cp311-cp311-manylinux_2_17_x86_64.manylinux2014_x86_64.whl (23 kB)\n",
      "#8 83.75 Downloading opentelemetry_api-1.31.1-py3-none-any.whl (65 kB)\n",
      "#8 83.77    ━━━━━━━━━━━━━━━━━━━━━━━━━━━━━━━━━━━━━━━━ 65.2/65.2 kB 15.0 MB/s eta 0:00:00\n",
      "#8 83.82 Downloading opentelemetry_sdk-1.31.1-py3-none-any.whl (118 kB)\n",
      "#8 83.84    ━━━━━━━━━━━━━━━━━━━━━━━━━━━━━━━━━━━━━━━━ 118.9/118.9 kB 9.2 MB/s eta 0:00:00\n",
      "#8 83.88 Downloading opentelemetry_semantic_conventions-0.52b1-py3-none-any.whl (183 kB)\n",
      "#8 83.91    ━━━━━━━━━━━━━━━━━━━━━━━━━━━━━━━━━━━━━━━━ 183.4/183.4 kB 8.0 MB/s eta 0:00:00\n",
      "#8 83.96 Downloading packaging-24.2-py3-none-any.whl (65 kB)\n",
      "#8 83.97    ━━━━━━━━━━━━━━━━━━━━━━━━━━━━━━━━━━━━━━━━ 65.5/65.5 kB 9.4 MB/s eta 0:00:00\n",
      "#8 84.02 Downloading pillow-11.1.0-cp311-cp311-manylinux_2_28_x86_64.whl (4.5 MB)\n",
      "#8 84.71    ━━━━━━━━━━━━━━━━━━━━━━━━━━━━━━━━━━━━━━━━ 4.5/4.5 MB 6.5 MB/s eta 0:00:00\n",
      "#8 84.76 Downloading protobuf-5.29.4-cp38-abi3-manylinux2014_x86_64.whl (319 kB)\n",
      "#8 84.82    ━━━━━━━━━━━━━━━━━━━━━━━━━━━━━━━━━━━━━━━━ 319.7/319.7 kB 7.5 MB/s eta 0:00:00\n",
      "#8 84.86 Downloading pyparsing-3.2.3-py3-none-any.whl (111 kB)\n",
      "#8 84.88    ━━━━━━━━━━━━━━━━━━━━━━━━━━━━━━━━━━━━━━━━ 111.1/111.1 kB 11.0 MB/s eta 0:00:00\n",
      "#8 84.94 Downloading python_dateutil-2.9.0.post0-py2.py3-none-any.whl (229 kB)\n",
      "#8 84.97    ━━━━━━━━━━━━━━━━━━━━━━━━━━━━━━━━━━━━━━━━ 229.9/229.9 kB 9.8 MB/s eta 0:00:00\n",
      "#8 85.01 Downloading pytz-2025.2-py2.py3-none-any.whl (509 kB)\n",
      "#8 85.10    ━━━━━━━━━━━━━━━━━━━━━━━━━━━━━━━━━━━━━━━━ 509.2/509.2 kB 7.0 MB/s eta 0:00:00\n",
      "#8 85.14 Downloading PyYAML-6.0.2-cp311-cp311-manylinux_2_17_x86_64.manylinux2014_x86_64.whl (762 kB)\n",
      "#8 85.28    ━━━━━━━━━━━━━━━━━━━━━━━━━━━━━━━━━━━━━━━━ 763.0/763.0 kB 6.0 MB/s eta 0:00:00\n",
      "#8 85.33 Downloading requests-2.32.3-py3-none-any.whl (64 kB)\n",
      "#8 85.35    ━━━━━━━━━━━━━━━━━━━━━━━━━━━━━━━━━━━━━━━━ 64.9/64.9 kB 6.1 MB/s eta 0:00:00\n",
      "#8 85.40 Downloading sqlparse-0.5.3-py3-none-any.whl (44 kB)\n",
      "#8 85.42    ━━━━━━━━━━━━━━━━━━━━━━━━━━━━━━━━━━━━━━━━ 44.4/44.4 kB 11.6 MB/s eta 0:00:00\n",
      "#8 85.46 Downloading typing_inspection-0.4.0-py3-none-any.whl (14 kB)\n",
      "#8 85.52 Downloading tzdata-2025.2-py2.py3-none-any.whl (347 kB)\n",
      "#8 85.59    ━━━━━━━━━━━━━━━━━━━━━━━━━━━━━━━━━━━━━━━━ 347.8/347.8 kB 5.7 MB/s eta 0:00:00\n",
      "#8 85.63 Downloading urllib3-2.3.0-py3-none-any.whl (128 kB)\n",
      "#8 85.67    ━━━━━━━━━━━━━━━━━━━━━━━━━━━━━━━━━━━━━━━━ 128.4/128.4 kB 4.6 MB/s eta 0:00:00\n",
      "#8 85.72 Downloading werkzeug-3.1.3-py3-none-any.whl (224 kB)\n",
      "#8 85.75    ━━━━━━━━━━━━━━━━━━━━━━━━━━━━━━━━━━━━━━━━ 224.5/224.5 kB 6.2 MB/s eta 0:00:00\n",
      "#8 85.81 Downloading Mako-1.3.9-py3-none-any.whl (78 kB)\n",
      "#8 85.84    ━━━━━━━━━━━━━━━━━━━━━━━━━━━━━━━━━━━━━━━━ 78.5/78.5 kB 7.2 MB/s eta 0:00:00\n",
      "#8 85.91 Downloading certifi-2025.1.31-py3-none-any.whl (166 kB)\n",
      "#8 85.97    ━━━━━━━━━━━━━━━━━━━━━━━━━━━━━━━━━━━━━━━━ 166.4/166.4 kB 3.0 MB/s eta 0:00:00\n",
      "#8 86.02 Downloading charset_normalizer-3.4.1-cp311-cp311-manylinux_2_17_x86_64.manylinux2014_x86_64.whl (143 kB)\n",
      "#8 86.06    ━━━━━━━━━━━━━━━━━━━━━━━━━━━━━━━━━━━━━━━━ 143.9/143.9 kB 4.9 MB/s eta 0:00:00\n",
      "#8 86.11 Downloading Deprecated-1.2.18-py2.py3-none-any.whl (10.0 kB)\n",
      "#8 86.15 Downloading gitdb-4.0.12-py3-none-any.whl (62 kB)\n",
      "#8 86.17    ━━━━━━━━━━━━━━━━━━━━━━━━━━━━━━━━━━━━━━━━ 62.8/62.8 kB 5.8 MB/s eta 0:00:00\n",
      "#8 86.22 Downloading google_auth-2.38.0-py2.py3-none-any.whl (210 kB)\n",
      "#8 86.25    ━━━━━━━━━━━━━━━━━━━━━━━━━━━━━━━━━━━━━━━━ 210.8/210.8 kB 12.0 MB/s eta 0:00:00\n",
      "#8 86.29 Downloading idna-3.10-py3-none-any.whl (70 kB)\n",
      "#8 86.31    ━━━━━━━━━━━━━━━━━━━━━━━━━━━━━━━━━━━━━━━━ 70.4/70.4 kB 8.4 MB/s eta 0:00:00\n",
      "#8 86.35 Downloading six-1.17.0-py2.py3-none-any.whl (11 kB)\n",
      "#8 86.41 Downloading sniffio-1.3.1-py3-none-any.whl (10 kB)\n",
      "#8 86.45 Downloading zipp-3.21.0-py3-none-any.whl (9.6 kB)\n",
      "#8 86.50 Downloading pyasn1_modules-0.4.2-py3-none-any.whl (181 kB)\n",
      "#8 86.53    ━━━━━━━━━━━━━━━━━━━━━━━━━━━━━━━━━━━━━━━━ 181.3/181.3 kB 8.3 MB/s eta 0:00:00\n",
      "#8 86.58 Downloading rsa-4.9-py3-none-any.whl (34 kB)\n",
      "#8 86.63 Downloading smmap-5.0.2-py3-none-any.whl (24 kB)\n",
      "#8 86.70 Downloading wrapt-1.17.2-cp311-cp311-manylinux_2_5_x86_64.manylinux1_x86_64.manylinux_2_17_x86_64.manylinux2014_x86_64.whl (83 kB)\n",
      "#8 86.72    ━━━━━━━━━━━━━━━━━━━━━━━━━━━━━━━━━━━━━━━━ 83.2/83.2 kB 8.2 MB/s eta 0:00:00\n",
      "#8 86.77 Downloading pyasn1-0.6.1-py3-none-any.whl (83 kB)\n",
      "#8 86.79    ━━━━━━━━━━━━━━━━━━━━━━━━━━━━━━━━━━━━━━━━ 83.1/83.1 kB 8.6 MB/s eta 0:00:00\n",
      "#8 88.28 Installing collected packages: pytz, zipp, wrapt, urllib3, tzdata, typing-extensions, threadpoolctl, sqlparse, sniffio, smmap, six, pyyaml, pyparsing, pyasn1, pyarrow, protobuf, pillow, packaging, numpy, MarkupSafe, markdown, kiwisolver, joblib, itsdangerous, idna, h11, greenlet, graphql-core, fonttools, cycler, cloudpickle, click, charset-normalizer, certifi, cachetools, blinker, annotated-types, Werkzeug, uvicorn, typing-inspection, sqlalchemy, scipy, rsa, requests, python-dateutil, pydantic-core, pyasn1-modules, Mako, Jinja2, importlib_metadata, gunicorn, graphql-relay, gitdb, deprecated, contourpy, anyio, starlette, scikit-learn, pydantic, pandas, opentelemetry-api, matplotlib, graphene, google-auth, gitpython, Flask, docker, alembic, opentelemetry-semantic-conventions, fastapi, databricks-sdk, opentelemetry-sdk, mlflow-skinny, mlflow\n",
      "#8 125.5 Successfully installed Flask-3.1.0 Jinja2-3.1.6 Mako-1.3.9 MarkupSafe-3.0.2 Werkzeug-3.1.3 alembic-1.15.2 annotated-types-0.7.0 anyio-4.9.0 blinker-1.9.0 cachetools-5.5.2 certifi-2025.1.31 charset-normalizer-3.4.1 click-8.1.8 cloudpickle-3.1.1 contourpy-1.3.1 cycler-0.12.1 databricks-sdk-0.49.0 deprecated-1.2.18 docker-7.1.0 fastapi-0.115.12 fonttools-4.57.0 gitdb-4.0.12 gitpython-3.1.44 google-auth-2.38.0 graphene-3.4.3 graphql-core-3.2.6 graphql-relay-3.2.0 greenlet-3.1.1 gunicorn-23.0.0 h11-0.14.0 idna-3.10 importlib_metadata-8.6.1 itsdangerous-2.2.0 joblib-1.4.2 kiwisolver-1.4.8 markdown-3.7 matplotlib-3.10.1 mlflow-2.21.3 mlflow-skinny-2.21.3 numpy-2.2.4 opentelemetry-api-1.31.1 opentelemetry-sdk-1.31.1 opentelemetry-semantic-conventions-0.52b1 packaging-24.2 pandas-2.2.3 pillow-11.1.0 protobuf-5.29.4 pyarrow-19.0.1 pyasn1-0.6.1 pyasn1-modules-0.4.2 pydantic-2.11.2 pydantic-core-2.33.1 pyparsing-3.2.3 python-dateutil-2.9.0.post0 pytz-2025.2 pyyaml-6.0.2 requests-2.32.3 rsa-4.9 scikit-learn-1.6.1 scipy-1.15.2 six-1.17.0 smmap-5.0.2 sniffio-1.3.1 sqlalchemy-2.0.40 sqlparse-0.5.3 starlette-0.46.1 threadpoolctl-3.6.0 typing-extensions-4.13.1 typing-inspection-0.4.0 tzdata-2025.2 urllib3-2.3.0 uvicorn-0.34.0 wrapt-1.17.2 zipp-3.21.0\n",
      "#8 125.5 WARNING: Running pip as the 'root' user can result in broken permissions and conflicting behaviour with the system package manager. It is recommended to use a virtual environment instead: https://pip.pypa.io/warnings/venv\n",
      "#8 125.8 \n",
      "#8 125.8 [notice] A new release of pip is available: 24.0 -> 25.0.1\n",
      "#8 125.8 [notice] To update, run: pip install --upgrade pip\n",
      "#8 DONE 127.6s\n",
      "\n",
      "#9 exporting to image\n",
      "#9 exporting layers\n",
      "#9 exporting layers 4.5s done\n",
      "#9 writing image sha256:d4660b303a2cf0ef1f63b1c45d1660b47ed591d7049f265179b67dd0e6325350 done\n",
      "#9 naming to docker.io/library/mlops_model done\n",
      "#9 DONE 4.5s\n",
      "\n",
      "View build details: docker-desktop://dashboard/build/desktop-linux/desktop-linux/ugtiu3f0rjq2xky7t6741xjar\n"
     ]
    },
    {
     "name": "stdout",
     "output_type": "stream",
     "text": [
      "^C\n"
     ]
    },
    {
     "name": "stderr",
     "output_type": "stream",
     "text": [
      "2025/04/05 02:37:02 WARNING mlflow.utils.requirements_utils: Encountered an unexpected error (AttributeError(\"module 'pathlib' has no attribute '__version__'\")) while detecting model dependency mismatches. Set logging level to DEBUG to see the full traceback.\n",
      "/usr/local/lib/python3.11/site-packages/sklearn/base.py:380: InconsistentVersionWarning: Trying to unpickle estimator LinearRegression from version 1.5.2 when using version 1.6.1. This might lead to breaking code or invalid results. Use at your own risk. For more info please refer to:\n",
      "https://scikit-learn.org/stable/model_persistence.html#security-maintainability-limitations\n",
      "  warnings.warn(\n",
      "INFO:     Started server process [1]\n",
      "INFO:     Waiting for application startup.\n",
      "INFO:     Application startup complete.\n",
      "INFO:     Uvicorn running on http://0.0.0.0:8000 (Press CTRL+C to quit)\n",
      "time=\"2025-04-05T11:10:38+07:00\" level=error msg=\"error waiting for container: unexpected EOF\"\n"
     ]
    },
    {
     "name": "stdout",
     "output_type": "stream",
     "text": [
      "INFO:     172.17.0.1:52796 - \"POST /predict/ HTTP/1.1\" 422 Unprocessable Entity\n",
      "INFO:     172.17.0.1:47238 - \"POST /predict/ HTTP/1.1\" 422 Unprocessable Entity\n",
      "INFO:     172.17.0.1:52174 - \"POST /predict/ HTTP/1.1\" 422 Unprocessable Entity\n",
      "INFO:     172.17.0.1:50832 - \"POST /predict/ HTTP/1.1\" 422 Unprocessable Entity\n",
      "INFO:     172.17.0.1:37804 - \"POST /predict/ HTTP/1.1\" 200 OK\n",
      "INFO:     172.17.0.1:53716 - \"POST /predict/ HTTP/1.1\" 200 OK\n"
     ]
    }
   ],
   "source": [
    "!docker build -t mlops_model .\n",
    "!docker run -p 8000:8000 mlops_model"
   ]
  },
  {
   "cell_type": "markdown",
   "metadata": {},
   "source": [
    "- Test the API"
   ]
  },
  {
   "cell_type": "code",
   "execution_count": 5,
   "metadata": {},
   "outputs": [
    {
     "name": "stdout",
     "output_type": "stream",
     "text": [
      "{\"prediction\":14.884473953877686}\n"
     ]
    },
    {
     "name": "stderr",
     "output_type": "stream",
     "text": [
      "  % Total    % Received % Xferd  Average Speed   Time    Time     Time  Current\n",
      "                                 Dload  Upload   Total   Spent    Left  Speed\n",
      "\n",
      "  0     0    0     0    0     0      0      0 --:--:-- --:--:-- --:--:--     0\n",
      "100    49  100    33  100    16   2271   1101 --:--:-- --:--:-- --:--:--  3500\n"
     ]
    }
   ],
   "source": [
    "!curl -X POST \"http://127.0.0.1:8000/predict/\" -H \"Content-Type: application/json\" -d \"{\\\"feature\\\": 5.0}\""
   ]
  },
  {
   "cell_type": "markdown",
   "metadata": {},
   "source": [
    "## Automate the Pipeline with CI/CD"
   ]
  },
  {
   "cell_type": "markdown",
   "metadata": {},
   "source": [
    "- Create a Retraining Script (`train.py`)\n",
    "- Set Up GitHub Actions (`.github/workflows/train.yml`)\n",
    "- Commit & Push to GitHub"
   ]
  },
  {
   "cell_type": "code",
   "execution_count": null,
   "metadata": {},
   "outputs": [],
   "source": [
    "!git init\n",
    "!git add .\n",
    "!git commit -m \"first commit\"\n",
    "!git branch -M main\n",
    "!git remote add origin https://github.com/HoDangCao/MLOps.git\n",
    "!git push -u origin main"
   ]
  },
  {
   "cell_type": "markdown",
   "metadata": {},
   "source": [
    "- How to Automate Model Deployment After Retraining?\n",
    "\n",
    "1️⃣ Store the new model in a registry (e.g., AWS S3, Google Cloud Storage, MLflow)\n",
    "\n",
    "2️⃣ Build & push a new Docker image with the updated model\n",
    "\n",
    "3️⃣ Deploy to Kubernetes or a Cloud Service (AWS SageMaker, GCP Vertex AI, Azure ML)\n",
    "\n",
    "4️⃣ Use CI/CD (GitHub Actions) to automate updates"
   ]
  },
  {
   "cell_type": "markdown",
   "metadata": {},
   "source": [
    "### Option 1: Automate Model Deployment with Docker & GitHub Actions"
   ]
  },
  {
   "cell_type": "markdown",
   "metadata": {},
   "source": [
    "Create `.github/workflows/deploy.yml` help:\n",
    "- Runs after model retraining is complete\n",
    "- Builds & pushes the new Docker image\n",
    "- Deploys the updated model on a server"
   ]
  },
  {
   "cell_type": "code",
   "execution_count": null,
   "metadata": {},
   "outputs": [
    {
     "name": "stdout",
     "output_type": "stream",
     "text": [
      "[main b991c35] Add automated model deployment\n",
      " 1 file changed, 5 insertions(+), 4 deletions(-)\n"
     ]
    },
    {
     "name": "stderr",
     "output_type": "stream",
     "text": [
      "To https://github.com/HoDangCao/MLOps.git\n",
      "   929fa2b..b991c35  main -> main\n"
     ]
    }
   ],
   "source": [
    "!git add .\n",
    "!git commit -m \"Add automated model evaluation and kubernete files\"\n",
    "!git push origin main"
   ]
  },
  {
   "cell_type": "markdown",
   "metadata": {},
   "source": [
    "### Option 2: Automate Model Deployment Using Kubernetes (K8s)"
   ]
  },
  {
   "cell_type": "markdown",
   "metadata": {},
   "source": [
    "- Define a Kubernetes Deployment (`deployment.yaml`)\n",
    "- Create a Kubernetes Service (`service.yaml`)\n",
    "- Apply the Changes to Kubernetes"
   ]
  },
  {
   "cell_type": "code",
   "execution_count": null,
   "metadata": {},
   "outputs": [],
   "source": [
    "!kubectl apply -f deployment.yaml\n",
    "!kubectl apply -f service.yaml"
   ]
  },
  {
   "cell_type": "markdown",
   "metadata": {},
   "source": [
    "### Option 3: Use Cloud Services (AWS/GCP/Azure)"
   ]
  },
  {
   "cell_type": "markdown",
   "metadata": {},
   "source": [
    "Many cloud platforms automate model deployment.\n",
    "\n",
    "✅ AWS SageMaker → Upload the new model to S3, deploy it with SageMaker Endpoints\n",
    "\n",
    "✅ Google Vertex AI → Register the model in Vertex AI Model Registry, deploy with AutoML\n",
    "\n",
    "✅ Azure ML → Use Azure ML Pipelines to redeploy automatically"
   ]
  },
  {
   "cell_type": "markdown",
   "metadata": {},
   "source": [
    "### automatically retrain the model if drift is detected."
   ]
  },
  {
   "cell_type": "markdown",
   "metadata": {},
   "source": [
    "sketch a .github/workflows/evaluate.yml that:\n",
    "1. Runs on a schedule ⏰\n",
    "2. Checks model performance or drift 📉\n",
    "3. Triggers train.yml if needed 🔁\n",
    "4. Sends notifications 📬"
   ]
  }
 ],
 "metadata": {
  "kernelspec": {
   "display_name": "Python 3",
   "language": "python",
   "name": "python3"
  },
  "language_info": {
   "codemirror_mode": {
    "name": "ipython",
    "version": 3
   },
   "file_extension": ".py",
   "mimetype": "text/x-python",
   "name": "python",
   "nbconvert_exporter": "python",
   "pygments_lexer": "ipython3",
   "version": "3.11.9"
  }
 },
 "nbformat": 4,
 "nbformat_minor": 2
}
